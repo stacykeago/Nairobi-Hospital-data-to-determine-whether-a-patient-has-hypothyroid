{
  "nbformat": 4,
  "nbformat_minor": 0,
  "metadata": {
    "colab": {
      "provenance": [],
      "include_colab_link": true
    },
    "kernelspec": {
      "name": "python3",
      "display_name": "Python 3"
    },
    "language_info": {
      "name": "python"
    }
  },
  "cells": [
    {
      "cell_type": "markdown",
      "metadata": {
        "id": "view-in-github",
        "colab_type": "text"
      },
      "source": [
        "<a href=\"https://colab.research.google.com/github/stacykeago/Nairobi-Hospital-data-to-determine-whether-a-patient-has-hypothyroid/blob/main/Nairobi_Hospital_hypothyroidism_data.ipynb\" target=\"_parent\"><img src=\"https://colab.research.google.com/assets/colab-badge.svg\" alt=\"Open In Colab\"/></a>"
      ]
    },
    {
      "cell_type": "code",
      "metadata": {
        "id": "nMNGImWLUjuU"
      },
      "source": [],
      "execution_count": null,
      "outputs": []
    },
    {
      "cell_type": "markdown",
      "metadata": {
        "id": "mn4MhWMWVD2d"
      },
      "source": [
        "# Overview\n"
      ]
    },
    {
      "cell_type": "markdown",
      "metadata": {
        "id": "sgd59K47VIwJ"
      },
      "source": [
        "Nairobi Hospital conducted a clinical camp to test for hypothyroidism. The data collected focused on Thyroid patients. Use the healthcare datasets provided to accomplish the following:"
      ]
    },
    {
      "cell_type": "markdown",
      "metadata": {
        "id": "LyAa-cK8VKfn"
      },
      "source": [
        "# Define the question"
      ]
    },
    {
      "cell_type": "markdown",
      "metadata": {
        "id": "jMzmP6xFVPgj"
      },
      "source": [
        "Build a model that determines whether or not the patient's symptoms indicate that the patient has hypothyroid."
      ]
    },
    {
      "cell_type": "markdown",
      "metadata": {
        "id": "XEryLzCZVToi"
      },
      "source": [
        "# Import the libraries"
      ]
    },
    {
      "cell_type": "code",
      "metadata": {
        "id": "P6rENnrJWQuN"
      },
      "source": [
        "import numpy as np\n",
        "import pandas as pd\n",
        "import matplotlib.pyplot as plt\n",
        "import seaborn as sns; sns.set(font_scale=1.2)\n",
        "from sklearn.svm import SVC\n",
        "from sklearn.decomposition import PCA\n",
        "from sklearn.model_selection import train_test_split\n",
        "from sklearn.metrics import confusion_matrix,accuracy_score\n"
      ],
      "execution_count": null,
      "outputs": []
    },
    {
      "cell_type": "markdown",
      "metadata": {
        "id": "TVGkqNgTVtyu"
      },
      "source": [
        "# Load the data"
      ]
    },
    {
      "cell_type": "code",
      "metadata": {
        "colab": {
          "base_uri": "https://localhost:8080/",
          "height": 226
        },
        "id": "B7UQmlT6Vzgj",
        "outputId": "0cf5d715-f77d-462e-eb6d-67d112f6ca22"
      },
      "source": [
        "# load the data\n",
        "# preview the data\n",
        "data = pd.read_csv('/content/hypothyroid.csv')\n",
        "data.head()"
      ],
      "execution_count": null,
      "outputs": [
        {
          "output_type": "execute_result",
          "data": {
            "text/html": [
              "<div>\n",
              "<style scoped>\n",
              "    .dataframe tbody tr th:only-of-type {\n",
              "        vertical-align: middle;\n",
              "    }\n",
              "\n",
              "    .dataframe tbody tr th {\n",
              "        vertical-align: top;\n",
              "    }\n",
              "\n",
              "    .dataframe thead th {\n",
              "        text-align: right;\n",
              "    }\n",
              "</style>\n",
              "<table border=\"1\" class=\"dataframe\">\n",
              "  <thead>\n",
              "    <tr style=\"text-align: right;\">\n",
              "      <th></th>\n",
              "      <th>status</th>\n",
              "      <th>age</th>\n",
              "      <th>sex</th>\n",
              "      <th>on_thyroxine</th>\n",
              "      <th>query_on_thyroxine</th>\n",
              "      <th>on_antithyroid_medication</th>\n",
              "      <th>thyroid_surgery</th>\n",
              "      <th>query_hypothyroid</th>\n",
              "      <th>query_hyperthyroid</th>\n",
              "      <th>pregnant</th>\n",
              "      <th>sick</th>\n",
              "      <th>tumor</th>\n",
              "      <th>lithium</th>\n",
              "      <th>goitre</th>\n",
              "      <th>TSH_measured</th>\n",
              "      <th>TSH</th>\n",
              "      <th>T3_measured</th>\n",
              "      <th>T3</th>\n",
              "      <th>TT4_measured</th>\n",
              "      <th>TT4</th>\n",
              "      <th>T4U_measured</th>\n",
              "      <th>T4U</th>\n",
              "      <th>FTI_measured</th>\n",
              "      <th>FTI</th>\n",
              "      <th>TBG_measured</th>\n",
              "      <th>TBG</th>\n",
              "    </tr>\n",
              "  </thead>\n",
              "  <tbody>\n",
              "    <tr>\n",
              "      <th>0</th>\n",
              "      <td>hypothyroid</td>\n",
              "      <td>72</td>\n",
              "      <td>M</td>\n",
              "      <td>f</td>\n",
              "      <td>f</td>\n",
              "      <td>f</td>\n",
              "      <td>f</td>\n",
              "      <td>f</td>\n",
              "      <td>f</td>\n",
              "      <td>f</td>\n",
              "      <td>f</td>\n",
              "      <td>f</td>\n",
              "      <td>f</td>\n",
              "      <td>f</td>\n",
              "      <td>y</td>\n",
              "      <td>30</td>\n",
              "      <td>y</td>\n",
              "      <td>0.60</td>\n",
              "      <td>y</td>\n",
              "      <td>15</td>\n",
              "      <td>y</td>\n",
              "      <td>1.48</td>\n",
              "      <td>y</td>\n",
              "      <td>10</td>\n",
              "      <td>n</td>\n",
              "      <td>?</td>\n",
              "    </tr>\n",
              "    <tr>\n",
              "      <th>1</th>\n",
              "      <td>hypothyroid</td>\n",
              "      <td>15</td>\n",
              "      <td>F</td>\n",
              "      <td>t</td>\n",
              "      <td>f</td>\n",
              "      <td>f</td>\n",
              "      <td>f</td>\n",
              "      <td>f</td>\n",
              "      <td>f</td>\n",
              "      <td>f</td>\n",
              "      <td>f</td>\n",
              "      <td>f</td>\n",
              "      <td>f</td>\n",
              "      <td>f</td>\n",
              "      <td>y</td>\n",
              "      <td>145</td>\n",
              "      <td>y</td>\n",
              "      <td>1.70</td>\n",
              "      <td>y</td>\n",
              "      <td>19</td>\n",
              "      <td>y</td>\n",
              "      <td>1.13</td>\n",
              "      <td>y</td>\n",
              "      <td>17</td>\n",
              "      <td>n</td>\n",
              "      <td>?</td>\n",
              "    </tr>\n",
              "    <tr>\n",
              "      <th>2</th>\n",
              "      <td>hypothyroid</td>\n",
              "      <td>24</td>\n",
              "      <td>M</td>\n",
              "      <td>f</td>\n",
              "      <td>f</td>\n",
              "      <td>f</td>\n",
              "      <td>f</td>\n",
              "      <td>f</td>\n",
              "      <td>f</td>\n",
              "      <td>f</td>\n",
              "      <td>f</td>\n",
              "      <td>f</td>\n",
              "      <td>f</td>\n",
              "      <td>f</td>\n",
              "      <td>y</td>\n",
              "      <td>0</td>\n",
              "      <td>y</td>\n",
              "      <td>0.20</td>\n",
              "      <td>y</td>\n",
              "      <td>4</td>\n",
              "      <td>y</td>\n",
              "      <td>1</td>\n",
              "      <td>y</td>\n",
              "      <td>0</td>\n",
              "      <td>n</td>\n",
              "      <td>?</td>\n",
              "    </tr>\n",
              "    <tr>\n",
              "      <th>3</th>\n",
              "      <td>hypothyroid</td>\n",
              "      <td>24</td>\n",
              "      <td>F</td>\n",
              "      <td>f</td>\n",
              "      <td>f</td>\n",
              "      <td>f</td>\n",
              "      <td>f</td>\n",
              "      <td>f</td>\n",
              "      <td>f</td>\n",
              "      <td>f</td>\n",
              "      <td>f</td>\n",
              "      <td>f</td>\n",
              "      <td>f</td>\n",
              "      <td>f</td>\n",
              "      <td>y</td>\n",
              "      <td>430</td>\n",
              "      <td>y</td>\n",
              "      <td>0.40</td>\n",
              "      <td>y</td>\n",
              "      <td>6</td>\n",
              "      <td>y</td>\n",
              "      <td>1.04</td>\n",
              "      <td>y</td>\n",
              "      <td>6</td>\n",
              "      <td>n</td>\n",
              "      <td>?</td>\n",
              "    </tr>\n",
              "    <tr>\n",
              "      <th>4</th>\n",
              "      <td>hypothyroid</td>\n",
              "      <td>77</td>\n",
              "      <td>M</td>\n",
              "      <td>f</td>\n",
              "      <td>f</td>\n",
              "      <td>f</td>\n",
              "      <td>f</td>\n",
              "      <td>f</td>\n",
              "      <td>f</td>\n",
              "      <td>f</td>\n",
              "      <td>f</td>\n",
              "      <td>f</td>\n",
              "      <td>f</td>\n",
              "      <td>f</td>\n",
              "      <td>y</td>\n",
              "      <td>7.30</td>\n",
              "      <td>y</td>\n",
              "      <td>1.20</td>\n",
              "      <td>y</td>\n",
              "      <td>57</td>\n",
              "      <td>y</td>\n",
              "      <td>1.28</td>\n",
              "      <td>y</td>\n",
              "      <td>44</td>\n",
              "      <td>n</td>\n",
              "      <td>?</td>\n",
              "    </tr>\n",
              "  </tbody>\n",
              "</table>\n",
              "</div>"
            ],
            "text/plain": [
              "        status age sex on_thyroxine  ... FTI_measured FTI TBG_measured TBG\n",
              "0  hypothyroid  72   M            f  ...            y  10            n   ?\n",
              "1  hypothyroid  15   F            t  ...            y  17            n   ?\n",
              "2  hypothyroid  24   M            f  ...            y   0            n   ?\n",
              "3  hypothyroid  24   F            f  ...            y   6            n   ?\n",
              "4  hypothyroid  77   M            f  ...            y  44            n   ?\n",
              "\n",
              "[5 rows x 26 columns]"
            ]
          },
          "metadata": {},
          "execution_count": 9
        }
      ]
    },
    {
      "cell_type": "markdown",
      "metadata": {
        "id": "nWoolJdBKiA3"
      },
      "source": [
        "## Check for data types"
      ]
    },
    {
      "cell_type": "code",
      "metadata": {
        "colab": {
          "base_uri": "https://localhost:8080/"
        },
        "id": "4M6DExKhYWT6",
        "outputId": "4a423b22-85c4-4655-9555-886e13b0b961"
      },
      "source": [
        "\n",
        "# check for the data types\n",
        "data.dtypes"
      ],
      "execution_count": null,
      "outputs": [
        {
          "output_type": "execute_result",
          "data": {
            "text/plain": [
              "status                       object\n",
              "age                          object\n",
              "sex                          object\n",
              "on_thyroxine                 object\n",
              "query_on_thyroxine           object\n",
              "on_antithyroid_medication    object\n",
              "thyroid_surgery              object\n",
              "query_hypothyroid            object\n",
              "query_hyperthyroid           object\n",
              "pregnant                     object\n",
              "sick                         object\n",
              "tumor                        object\n",
              "lithium                      object\n",
              "goitre                       object\n",
              "TSH_measured                 object\n",
              "TSH                          object\n",
              "T3_measured                  object\n",
              "T3                           object\n",
              "TT4_measured                 object\n",
              "TT4                          object\n",
              "T4U_measured                 object\n",
              "T4U                          object\n",
              "FTI_measured                 object\n",
              "FTI                          object\n",
              "TBG_measured                 object\n",
              "TBG                          object\n",
              "dtype: object"
            ]
          },
          "metadata": {},
          "execution_count": 10
        }
      ]
    },
    {
      "cell_type": "markdown",
      "metadata": {
        "id": "yuzkltCMLElT"
      },
      "source": [
        "### Convert data types to numerical values"
      ]
    },
    {
      "cell_type": "code",
      "metadata": {
        "id": "DMpuDwRS-q1g"
      },
      "source": [
        "data[[\"TSH\",\"T3\",\"TT4\",\"T4U\",\"FTI\"]] = data [[\"TSH\",\"T3\",\"TT4\",\"T4U\",\"FTI\"]].apply(pd.to_numeric, errors='coerce')\n"
      ],
      "execution_count": null,
      "outputs": []
    },
    {
      "cell_type": "markdown",
      "metadata": {
        "id": "C0YCpm5iMK_s"
      },
      "source": [
        "## Data description"
      ]
    },
    {
      "cell_type": "code",
      "metadata": {
        "colab": {
          "base_uri": "https://localhost:8080/",
          "height": 300
        },
        "id": "EQF8dxnfMSRq",
        "outputId": "d3ecda92-e18a-4dc1-d82c-55a09e7be97f"
      },
      "source": [
        "data.describe()"
      ],
      "execution_count": null,
      "outputs": [
        {
          "output_type": "execute_result",
          "data": {
            "text/html": [
              "<div>\n",
              "<style scoped>\n",
              "    .dataframe tbody tr th:only-of-type {\n",
              "        vertical-align: middle;\n",
              "    }\n",
              "\n",
              "    .dataframe tbody tr th {\n",
              "        vertical-align: top;\n",
              "    }\n",
              "\n",
              "    .dataframe thead th {\n",
              "        text-align: right;\n",
              "    }\n",
              "</style>\n",
              "<table border=\"1\" class=\"dataframe\">\n",
              "  <thead>\n",
              "    <tr style=\"text-align: right;\">\n",
              "      <th></th>\n",
              "      <th>TSH</th>\n",
              "      <th>T3</th>\n",
              "      <th>TT4</th>\n",
              "      <th>T4U</th>\n",
              "      <th>FTI</th>\n",
              "    </tr>\n",
              "  </thead>\n",
              "  <tbody>\n",
              "    <tr>\n",
              "      <th>count</th>\n",
              "      <td>2695.000000</td>\n",
              "      <td>2468.000000</td>\n",
              "      <td>2914.000000</td>\n",
              "      <td>2915.000000</td>\n",
              "      <td>2916.000000</td>\n",
              "    </tr>\n",
              "    <tr>\n",
              "      <th>mean</th>\n",
              "      <td>5.923180</td>\n",
              "      <td>1.939749</td>\n",
              "      <td>108.850000</td>\n",
              "      <td>0.978199</td>\n",
              "      <td>115.397771</td>\n",
              "    </tr>\n",
              "    <tr>\n",
              "      <th>std</th>\n",
              "      <td>23.899467</td>\n",
              "      <td>0.996773</td>\n",
              "      <td>45.485419</td>\n",
              "      <td>0.226580</td>\n",
              "      <td>60.239572</td>\n",
              "    </tr>\n",
              "    <tr>\n",
              "      <th>min</th>\n",
              "      <td>0.000000</td>\n",
              "      <td>0.000000</td>\n",
              "      <td>2.000000</td>\n",
              "      <td>0.000000</td>\n",
              "      <td>0.000000</td>\n",
              "    </tr>\n",
              "    <tr>\n",
              "      <th>25%</th>\n",
              "      <td>0.000000</td>\n",
              "      <td>1.400000</td>\n",
              "      <td>83.000000</td>\n",
              "      <td>0.850000</td>\n",
              "      <td>91.000000</td>\n",
              "    </tr>\n",
              "    <tr>\n",
              "      <th>50%</th>\n",
              "      <td>0.700000</td>\n",
              "      <td>1.800000</td>\n",
              "      <td>104.000000</td>\n",
              "      <td>0.960000</td>\n",
              "      <td>107.000000</td>\n",
              "    </tr>\n",
              "    <tr>\n",
              "      <th>75%</th>\n",
              "      <td>2.300000</td>\n",
              "      <td>2.300000</td>\n",
              "      <td>128.000000</td>\n",
              "      <td>1.065000</td>\n",
              "      <td>129.000000</td>\n",
              "    </tr>\n",
              "    <tr>\n",
              "      <th>max</th>\n",
              "      <td>530.000000</td>\n",
              "      <td>10.200000</td>\n",
              "      <td>450.000000</td>\n",
              "      <td>2.210000</td>\n",
              "      <td>881.000000</td>\n",
              "    </tr>\n",
              "  </tbody>\n",
              "</table>\n",
              "</div>"
            ],
            "text/plain": [
              "               TSH           T3          TT4          T4U          FTI\n",
              "count  2695.000000  2468.000000  2914.000000  2915.000000  2916.000000\n",
              "mean      5.923180     1.939749   108.850000     0.978199   115.397771\n",
              "std      23.899467     0.996773    45.485419     0.226580    60.239572\n",
              "min       0.000000     0.000000     2.000000     0.000000     0.000000\n",
              "25%       0.000000     1.400000    83.000000     0.850000    91.000000\n",
              "50%       0.700000     1.800000   104.000000     0.960000   107.000000\n",
              "75%       2.300000     2.300000   128.000000     1.065000   129.000000\n",
              "max     530.000000    10.200000   450.000000     2.210000   881.000000"
            ]
          },
          "metadata": {},
          "execution_count": 12
        }
      ]
    },
    {
      "cell_type": "markdown",
      "metadata": {
        "id": "ZT9M3vwaRxyU"
      },
      "source": [
        "#### Convert status column to category then interger"
      ]
    },
    {
      "cell_type": "code",
      "metadata": {
        "colab": {
          "base_uri": "https://localhost:8080/"
        },
        "id": "QxQMe1wBHNiD",
        "outputId": "cc5d104e-82d0-432d-ea6f-446b5e0fdfb6"
      },
      "source": [
        "# Convert the data type for 'status' column from object to category\n",
        "data['status'] = data['status'].astype('category')\n",
        "status =data['status'].cat.codes\n",
        "status\n"
      ],
      "execution_count": null,
      "outputs": [
        {
          "output_type": "execute_result",
          "data": {
            "text/plain": [
              "0       0\n",
              "1       0\n",
              "2       0\n",
              "3       0\n",
              "4       0\n",
              "       ..\n",
              "3158    1\n",
              "3159    1\n",
              "3160    1\n",
              "3161    1\n",
              "3162    1\n",
              "Length: 3163, dtype: int8"
            ]
          },
          "metadata": {},
          "execution_count": 13
        }
      ]
    },
    {
      "cell_type": "code",
      "metadata": {
        "colab": {
          "base_uri": "https://localhost:8080/"
        },
        "id": "Y7d1hwvfg_lZ",
        "outputId": "3db56d0b-d1fb-495e-e185-754f9862f946"
      },
      "source": [
        "data['on_thyroxine'] = data['on_thyroxine'].astype('category')\n",
        "on_thyroxine =data['on_thyroxine'].cat.codes\n",
        "on_thyroxine"
      ],
      "execution_count": null,
      "outputs": [
        {
          "output_type": "execute_result",
          "data": {
            "text/plain": [
              "0       0\n",
              "1       1\n",
              "2       0\n",
              "3       0\n",
              "4       0\n",
              "       ..\n",
              "3158    0\n",
              "3159    0\n",
              "3160    0\n",
              "3161    0\n",
              "3162    1\n",
              "Length: 3163, dtype: int8"
            ]
          },
          "metadata": {},
          "execution_count": 14
        }
      ]
    },
    {
      "cell_type": "markdown",
      "metadata": {
        "id": "7jrssAm4LwpG"
      },
      "source": [
        "## Check for null values"
      ]
    },
    {
      "cell_type": "code",
      "metadata": {
        "colab": {
          "base_uri": "https://localhost:8080/"
        },
        "id": "m7893vpVL36E",
        "outputId": "9fb1d06e-c134-426a-95ae-4599adc776d5"
      },
      "source": [
        "data.isnull().sum()"
      ],
      "execution_count": null,
      "outputs": [
        {
          "output_type": "execute_result",
          "data": {
            "text/plain": [
              "status                         0\n",
              "age                            0\n",
              "sex                            0\n",
              "on_thyroxine                   0\n",
              "query_on_thyroxine             0\n",
              "on_antithyroid_medication      0\n",
              "thyroid_surgery                0\n",
              "query_hypothyroid              0\n",
              "query_hyperthyroid             0\n",
              "pregnant                       0\n",
              "sick                           0\n",
              "tumor                          0\n",
              "lithium                        0\n",
              "goitre                         0\n",
              "TSH_measured                   0\n",
              "TSH                          468\n",
              "T3_measured                    0\n",
              "T3                           695\n",
              "TT4_measured                   0\n",
              "TT4                          249\n",
              "T4U_measured                   0\n",
              "T4U                          248\n",
              "FTI_measured                   0\n",
              "FTI                          247\n",
              "TBG_measured                   0\n",
              "TBG                            0\n",
              "dtype: int64"
            ]
          },
          "metadata": {},
          "execution_count": 15
        }
      ]
    },
    {
      "cell_type": "markdown",
      "metadata": {
        "id": "Ujn_Qza1L-pb"
      },
      "source": [
        "## Replace Null values with median"
      ]
    },
    {
      "cell_type": "code",
      "metadata": {
        "id": "J4dEFvedOVzI"
      },
      "source": [
        "#Dealing with null values\n",
        "#Filling the null values in \"TSH\",\"T3\",\"TT4\",\"T4U\",\"FTI\" with the median values:\n",
        "data['TSH'].fillna((data['TSH'].median()), inplace= True)\n",
        "data['T3'].fillna((data['T3'].median()), inplace= True)\n",
        "data['TT4'].fillna((data['TT4'].median()), inplace= True)\n",
        "data['FTI'].fillna((data['FTI'].median()), inplace= True)\n",
        "data['T4U'].fillna((data['T4U'].median()), inplace= True)"
      ],
      "execution_count": null,
      "outputs": []
    },
    {
      "cell_type": "code",
      "metadata": {
        "colab": {
          "base_uri": "https://localhost:8080/"
        },
        "id": "fi6MdYizPbmy",
        "outputId": "162189eb-46c6-40d3-e021-54a88406dcab"
      },
      "source": [
        "# checking for any more null\n",
        "data.isnull().sum()"
      ],
      "execution_count": null,
      "outputs": [
        {
          "output_type": "execute_result",
          "data": {
            "text/plain": [
              "status                       0\n",
              "age                          0\n",
              "sex                          0\n",
              "on_thyroxine                 0\n",
              "query_on_thyroxine           0\n",
              "on_antithyroid_medication    0\n",
              "thyroid_surgery              0\n",
              "query_hypothyroid            0\n",
              "query_hyperthyroid           0\n",
              "pregnant                     0\n",
              "sick                         0\n",
              "tumor                        0\n",
              "lithium                      0\n",
              "goitre                       0\n",
              "TSH_measured                 0\n",
              "TSH                          0\n",
              "T3_measured                  0\n",
              "T3                           0\n",
              "TT4_measured                 0\n",
              "TT4                          0\n",
              "T4U_measured                 0\n",
              "T4U                          0\n",
              "FTI_measured                 0\n",
              "FTI                          0\n",
              "TBG_measured                 0\n",
              "TBG                          0\n",
              "dtype: int64"
            ]
          },
          "metadata": {},
          "execution_count": 17
        }
      ]
    },
    {
      "cell_type": "markdown",
      "metadata": {
        "id": "pT2qi3rPKuQm"
      },
      "source": [
        "## Check for anormalies"
      ]
    },
    {
      "cell_type": "code",
      "metadata": {
        "colab": {
          "base_uri": "https://localhost:8080/"
        },
        "id": "y_K9w9w61yAv",
        "outputId": "d1367cb2-eba7-4717-ed82-cde1a9a5cbb0"
      },
      "source": [
        "#check for anomalies\n",
        "for i in data.columns:\n",
        "  print(data[i].unique())\n",
        "  print('\\n')"
      ],
      "execution_count": null,
      "outputs": [
        {
          "output_type": "stream",
          "name": "stdout",
          "text": [
            "['hypothyroid', 'negative']\n",
            "Categories (2, object): ['hypothyroid', 'negative']\n",
            "\n",
            "\n",
            "['72' '15' '24' '77' '85' '64' '20' '42' '69' '75' '53' '59' '68' '50'\n",
            " '78' '65' '28' '43' '40' '84' '?' '83' '63' '73' '36' '27' '48' '71' '60'\n",
            " '34' '79' '62' '74' '32' '41' '70' '29' '5' '58' '35' '51' '22' '16' '44'\n",
            " '39' '47' '18' '17' '88' '56' '30' '45' '66' '52' '54' '80' '33' '38'\n",
            " '92' '67' '46' '13' '89' '61' '49' '26' '57' '31' '90' '81' '25' '37'\n",
            " '76' '87' '23' '55' '86' '98' '21' '97' '1' '6' '14' '82' '11' '19' '9'\n",
            " '12' '10' '8' '7' '4' '93']\n",
            "\n",
            "\n",
            "['M' 'F' '?']\n",
            "\n",
            "\n",
            "['f', 't']\n",
            "Categories (2, object): ['f', 't']\n",
            "\n",
            "\n",
            "['f' 't']\n",
            "\n",
            "\n",
            "['f' 't']\n",
            "\n",
            "\n",
            "['f' 't']\n",
            "\n",
            "\n",
            "['f' 't']\n",
            "\n",
            "\n",
            "['f' 't']\n",
            "\n",
            "\n",
            "['f' 't']\n",
            "\n",
            "\n",
            "['f' 't']\n",
            "\n",
            "\n",
            "['f' 't']\n",
            "\n",
            "\n",
            "['f' 't']\n",
            "\n",
            "\n",
            "['f' 't']\n",
            "\n",
            "\n",
            "['y' 'n']\n",
            "\n",
            "\n",
            "[3.00e+01 1.45e+02 0.00e+00 4.30e+02 7.30e+00 1.38e+02 7.70e+00 2.10e+01\n",
            " 9.20e+01 4.80e+01 3.60e+01 1.50e+01 1.53e+01 2.50e+01 6.10e+01 2.80e+01\n",
            " 1.70e+02 5.40e+01 2.16e+02 5.60e+01 7.10e+01 4.60e+01 7.00e+01 3.40e+01\n",
            " 5.30e+01 9.40e+00 1.26e+02 1.00e+01 5.30e+02 3.50e+01 6.50e+01 5.70e+01\n",
            " 1.25e+02 2.30e+01 8.00e+01 1.17e+02 4.90e+01 6.60e+01 8.20e+00 1.50e+02\n",
            " 7.00e-01 1.80e+01 1.65e+02 1.64e+02 2.40e+01 9.00e+01 7.70e+01 1.90e+01\n",
            " 5.80e+01 1.00e+02 2.13e+02 1.70e+01 2.35e+02 1.53e+02 1.30e+01 3.10e+01\n",
            " 1.09e+02 2.60e+02 4.30e+01 1.20e+01 1.10e+01 5.50e+01 6.50e+00 2.00e+01\n",
            " 7.50e+00 1.40e+01 6.00e+01 1.40e+02 3.30e+01 8.70e+00 2.50e-01 1.07e+01\n",
            " 8.20e+01 4.50e+01 4.20e+01 4.10e+01 1.60e+02 1.60e+01 8.90e+01 4.40e+01\n",
            " 1.76e+02 6.40e+00 1.83e+02 2.90e+01 3.70e+01 3.90e+01 7.90e+00 5.90e+01\n",
            " 6.80e+01 3.80e+01 4.70e+01 1.43e+02 6.60e+00 2.88e+02 9.60e+01 5.00e-01\n",
            " 1.20e+00 1.90e+00 9.00e-02 3.10e+00 4.00e-01 8.50e-01 3.00e-01 9.00e-01\n",
            " 1.50e+00 4.60e+00 2.00e-01 5.80e+00 4.00e+00 1.40e+00 2.00e+00 2.60e+00\n",
            " 2.90e+00 8.00e-01 4.90e+00 1.03e+01 2.30e+00 6.00e-01 1.30e+00 2.50e+00\n",
            " 5.10e+00 1.70e+00 2.70e+00 2.20e+01 8.10e+00 3.30e+00 5.00e+00 3.20e+00\n",
            " 1.80e+00 1.10e+00 4.60e-01 1.00e+00 5.60e+00 4.40e+00 1.65e+01 2.10e+00\n",
            " 6.30e+00 5.50e+00 7.40e+00 5.90e+00 1.50e-01 1.49e+01 2.20e+00 9.70e+00\n",
            " 9.60e+00 1.60e+00 3.70e+00 3.00e+00 2.80e+00 1.00e-01 4.20e+00 2.70e+01\n",
            " 3.50e+00 5.00e-02 1.92e+01 8.00e+00 9.10e+00 3.60e+00 7.80e+00 3.80e+00\n",
            " 8.50e+00 9.20e+00 5.20e+01 2.40e+00 3.90e+00 3.00e-02 4.00e-02 2.60e+01\n",
            " 6.10e+00 6.50e-01 9.20e-01 7.60e+00 8.40e+00 1.44e+01 1.05e+00 3.70e-01\n",
            " 1.78e+02 6.90e+00 4.50e+00 4.70e+00 4.00e+01 6.00e+00 4.10e+00 1.43e+01\n",
            " 5.40e+00 8.30e+00 6.00e-02 8.80e+00 8.90e+00 7.10e+00 4.80e+00 4.30e-01\n",
            " 6.70e+00 2.00e+02 8.60e+00 8.60e+01 2.10e-01 9.00e+00 2.60e-01 3.40e+00\n",
            " 6.20e+00 1.74e+01 8.50e+01 1.83e+00 6.30e+01 1.33e+01 2.00e-02 4.20e-01\n",
            " 9.50e+00 8.40e-01 8.80e-01 4.30e+00 6.70e-01 8.10e-01 5.20e+00 9.80e+00\n",
            " 7.60e+01 6.20e-01 1.00e-02 1.14e+01 8.80e+01 6.80e-01 7.00e-02 6.90e-01\n",
            " 7.70e-01 9.90e+00 6.40e-01 1.32e+01 6.80e+00 2.80e-01 1.16e+01 9.10e-01\n",
            " 1.01e+00 2.30e-01 3.50e-01 5.00e+01 3.20e+01 8.30e-01 8.00e-02]\n",
            "\n",
            "\n",
            "['y' 'n']\n",
            "\n",
            "\n",
            "[ 0.6   1.7   0.2   0.4   1.2   1.1   1.3   1.9   1.8   0.8   2.2   1.5\n",
            "  2.7   2.    0.3   2.1   0.5   0.7   1.    1.4   2.3   2.4   0.9   0.\n",
            "  2.8   1.6   6.7   3.3   3.    2.5   2.6   4.    9.8   3.9   3.4   3.8\n",
            "  4.5   3.2   3.7   4.3   2.9   3.1   3.5   3.6   6.6   4.9   8.9   4.1\n",
            "  5.    5.3   7.6   7.3   4.2   4.4   5.1   7.    0.1   0.05  4.7   6.2\n",
            "  5.5   4.6   6.1   8.1   5.2   5.6   4.8  10.2   8.6 ]\n",
            "\n",
            "\n",
            "['y' 'n']\n",
            "\n",
            "\n",
            "[ 15.   19.    4.    6.   57.   27.   54.   34.   39.    7.6  53.   38.\n",
            "  98.   44.   37.   81.   13.   17.   12.   50.   23.   14.    3.9  52.\n",
            "  32.   30.   84.   10.   55.   24.   28.   11.    6.6  31.   33.   41.\n",
            "   9.   78.   42.    8.1  65.   16.    9.7  46.   22.   61.    2.3  21.\n",
            "   7.5  18.   66.   25.   43.    2.    3.   58.   59.   71.   74.   56.\n",
            "  40.   20.   48.  230.   70.    4.1  63.    5.3   2.9  62.   75.   68.\n",
            "  45.   47.   36.   80.  109.    8.6  83.   82.  101.   76.  103.  112.\n",
            " 206.  110.   93.   79.  121.  104.  107.   88.  187.  254.  115.  113.\n",
            " 260.  117.  164.   97.   64.  129.  111.  106.   95.   87.  105.   90.\n",
            "  67.  134.   35.  193.  143.  130.  108.   86.   96.   92.   99.  216.\n",
            " 152.  125.  138.  194.   91.  120.  102.  170.  126.  116.  140.   94.\n",
            " 159.   85.  210.   89.  151.  247.  139.  153.  178.  123.  137.  161.\n",
            "   7.3  72.  202.  122.  124.  157.  118.  135.  186.  241.  131.  119.\n",
            " 100.  220.  176.  136.  183.  155.  208.  199.  154.  169.  128.  235.\n",
            " 195.  267.  232.  197.  212.  149.  127.  245.  132.  162.   77.  142.\n",
            "  69.  173.  141.  156.  181.  189.   60.  114.  198.  147.  191.  177.\n",
            " 174.  207.  168.   73.  160.  145.  200.  182.  158.  203.  209.  217.\n",
            " 430.  213.  218.  163.  296.  167.  148.  166.  185.  248.  172.  144.\n",
            " 150.  165.  196.  308.  146.  426.  224.   29.  204.  201.  133.  180.\n",
            " 184.  450.  244.  301.  255.  252.  396.  223.  261.  250.  179.  219.\n",
            " 190.   51.  221.  171.  242.  275.  211.   49.  239.  205.  222.  256.\n",
            " 214.  282.  287.  253.  269.  175.  228.  333.  258.  236.  225.  263.\n",
            " 283.  359.  188.  240. ]\n",
            "\n",
            "\n",
            "['y' 'n']\n",
            "\n",
            "\n",
            "[1.48 1.13 1.   1.04 1.28 1.19 0.86 1.05 1.21 1.02 0.92 1.29 0.98 1.08\n",
            " 1.01 1.18 1.1  1.27 0.83 1.11 0.78 1.39 1.12 0.93 0.99 0.9  1.06 0.68\n",
            " 0.67 1.14 0.8  0.96 0.95 1.46 1.03 0.97 0.94 1.09 1.24 1.23 1.53 1.26\n",
            " 1.4  1.17 0.87 0.61 0.7  1.07 1.73 1.45 1.2  0.89 0.84 0.91 0.85 1.35\n",
            " 0.82 1.5  0.74 1.71 1.79 0.73 0.77 1.25 0.88 0.72 0.31 0.   0.79 0.81\n",
            " 0.71 1.93 1.32 0.66 1.68 1.42 1.7  1.83 1.41 1.34 1.65 1.22 0.75 1.74\n",
            " 0.69 1.51 0.76 1.16 0.35 0.62 0.54 1.36 1.33 1.3  0.48 1.59 1.75 1.86\n",
            " 1.38 1.43 1.62 2.01 0.3  1.31 1.15 1.57 0.55 1.66 0.52 1.97 1.47 0.36\n",
            " 1.88 1.55 0.34 1.67 0.58 0.6  0.59 1.37 1.76 0.64 1.8  0.41 0.2  1.77\n",
            " 0.33 1.54 0.46 0.32 1.44 1.56 0.56 1.52 2.03 0.65 0.63 1.96 0.53 0.47\n",
            " 0.29 2.21 1.69 1.64 1.49 1.72 1.58 0.57 1.61 0.28 2.   1.63 0.27 1.94\n",
            " 0.5  0.49 0.4  0.38]\n",
            "\n",
            "\n",
            "['y' 'n']\n",
            "\n",
            "\n",
            "[ 10.   17.    0.    6.   44.   23.   63.   32.    7.5  61.   41.   76.\n",
            "  45.   34.   81.   11.   16.   46.   22.   12.    5.   47.   29.   37.\n",
            "  60.    8.4   8.5  24.   28.    7.   49.   36.   15.    9.   80.   53.\n",
            "   7.2  68.    6.6  48.   21.   14.    2.   20.    1.4  56.    3.   51.\n",
            "  13.   43.   78.   52.   64.   26.   35.   31.  133.    3.4  54.    8.9\n",
            "  57.    5.5  58.   55.    2.8  66.    4.   40.   50.    8.7  87.   89.\n",
            " 112.  123.   99.   92.  104.   69.  196.  107.  106.   74.   97.  122.\n",
            "  84.  114.  124.  241.  119.  120.  136.   85.  127.  839.  137.  197.\n",
            "  96.   77.  108.   82.   72.   94.   91.  240.  121.  109.   79.  100.\n",
            "  98.   73.  117.  165.  103.   88.  101.  126.  132.  128.  143.  152.\n",
            " 141.  186.  113.  102.  125.   93.  105.  159.  188.   71.  149.  116.\n",
            "  83.  176.  161.   86.  140.  111.  158.  115.  171.   90.   95.   70.\n",
            " 135.  134.  178.  110.  170.  205.  695.  155.  118.  741.  131.  129.\n",
            " 142.  153.   75.  254.  246.  139.  185.  157.  147.  164.  130.  222.\n",
            " 650.  174.  182.  144.  169.  257.  145.  345.  180.  167.  151.  154.\n",
            " 150.  219.  228.   65.  187.  166.  195.  208.  138.   33.  173.  146.\n",
            " 211.  181.  190.  247.  221.  395.  216.  212.  148.  162.  220.  370.\n",
            " 450.  160.   59.  189.  203.  168.  179.  264.  470.  184.  163.   67.\n",
            " 213.  354.  292.  359.  172.  156.  334.  177.  214.  194.  192.  215.\n",
            " 217.  271.  250.  244.  308.  881.  258.  316.  200.  711.  256.  232.\n",
            " 202.   39.  248.  237.  259.  445.   19.  852.   42.  235.  634.  283.\n",
            " 305.  204.  229.  332.  550.  249.  263.  615.  266.  198.  175.  209.\n",
            " 299.  193.  227.  223.  337.  210.  272.  702.  218.  239.  355.  482.\n",
            " 347.  485.  612.  428. ]\n",
            "\n",
            "\n",
            "['n' 'y']\n",
            "\n",
            "\n",
            "['?' '28' '34' '0' '19' '30' '25' '48' '39' '31' '16' '21' '37' '40' '27'\n",
            " '3.10' '38' '108' '20' '36' '17' '23' '35' '32' '63' '9.30' '15' '26'\n",
            " '33' '41' '110' '22' '43' '53' '80' '47' '29' '13' '24' '18' '45' '86'\n",
            " '50' '8.40' '52' '11' '12' '14' '65' '7.30' '8.50' '69' '122']\n",
            "\n",
            "\n"
          ]
        }
      ]
    },
    {
      "cell_type": "markdown",
      "metadata": {
        "id": "8EfNAQkgOoA9"
      },
      "source": [
        "## Check for duplicates"
      ]
    },
    {
      "cell_type": "code",
      "metadata": {
        "colab": {
          "base_uri": "https://localhost:8080/"
        },
        "id": "kS9hRi9VOlys",
        "outputId": "c2580937-b01b-46a4-bb51-9aade9926c8b"
      },
      "source": [
        "# Checking for duplicates:\n",
        "data.duplicated().sum()"
      ],
      "execution_count": null,
      "outputs": [
        {
          "output_type": "execute_result",
          "data": {
            "text/plain": [
              "77"
            ]
          },
          "metadata": {},
          "execution_count": 19
        }
      ]
    },
    {
      "cell_type": "markdown",
      "metadata": {
        "id": "b8LKSlcfK15y"
      },
      "source": [
        "## Check for outliers"
      ]
    },
    {
      "cell_type": "code",
      "metadata": {
        "colab": {
          "base_uri": "https://localhost:8080/",
          "height": 289
        },
        "id": "3t36dKxkYmmu",
        "outputId": "9d974272-c9ae-4417-ca81-c689b1b082ef"
      },
      "source": [
        "# Check for outliers\n",
        "data.boxplot(column =['TSH'], grid = False)\n"
      ],
      "execution_count": null,
      "outputs": [
        {
          "output_type": "execute_result",
          "data": {
            "text/plain": [
              "<matplotlib.axes._subplots.AxesSubplot at 0x7f67c0434cd0>"
            ]
          },
          "metadata": {},
          "execution_count": 22
        },
        {
          "output_type": "display_data",
          "data": {
            "image/png": "[encoded data removed]",
            "text/plain": [
              "<Figure size 432x288 with 1 Axes>"
            ]
          },
          "metadata": {}
        }
      ]
    },
    {
      "cell_type": "code",
      "metadata": {
        "colab": {
          "base_uri": "https://localhost:8080/",
          "height": 289
        },
        "id": "d_M5Q2Rytp4N",
        "outputId": "77814697-83ae-4b4c-ae9b-0ee7a75cb063"
      },
      "source": [
        "data.boxplot(column =['T3'], grid = False)\n"
      ],
      "execution_count": null,
      "outputs": [
        {
          "output_type": "execute_result",
          "data": {
            "text/plain": [
              "<matplotlib.axes._subplots.AxesSubplot at 0x7f67c03e4710>"
            ]
          },
          "metadata": {},
          "execution_count": 23
        },
        {
          "output_type": "display_data",
          "data": {
            "image/png": "[encoded data removed]",
            "text/plain": [
              "<Figure size 432x288 with 1 Axes>"
            ]
          },
          "metadata": {}
        }
      ]
    },
    {
      "cell_type": "code",
      "metadata": {
        "colab": {
          "base_uri": "https://localhost:8080/",
          "height": 289
        },
        "id": "_-Ziv-C8tusg",
        "outputId": "421ea4f7-a3e1-45c5-bc5b-c1a65b8e735a"
      },
      "source": [
        "data.boxplot(column =['TT4'], grid = False)\n"
      ],
      "execution_count": null,
      "outputs": [
        {
          "output_type": "execute_result",
          "data": {
            "text/plain": [
              "<matplotlib.axes._subplots.AxesSubplot at 0x7f67c03e4590>"
            ]
          },
          "metadata": {},
          "execution_count": 24
        },
        {
          "output_type": "display_data",
          "data": {
            "image/png": "[encoded data removed]",
            "text/plain": [
              "<Figure size 432x288 with 1 Axes>"
            ]
          },
          "metadata": {}
        }
      ]
    },
    {
      "cell_type": "code",
      "metadata": {
        "colab": {
          "base_uri": "https://localhost:8080/",
          "height": 289
        },
        "id": "BIXvYKf0tzWe",
        "outputId": "adf61a08-9486-4ccd-ae63-9bf09c2860ce"
      },
      "source": [
        "data.boxplot(column =['T4U'], grid = False)\n"
      ],
      "execution_count": null,
      "outputs": [
        {
          "output_type": "execute_result",
          "data": {
            "text/plain": [
              "<matplotlib.axes._subplots.AxesSubplot at 0x7f67c0338610>"
            ]
          },
          "metadata": {},
          "execution_count": 25
        },
        {
          "output_type": "display_data",
          "data": {
            "image/png": "[encoded data removed]",
            "text/plain": [
              "<Figure size 432x288 with 1 Axes>"
            ]
          },
          "metadata": {}
        }
      ]
    },
    {
      "cell_type": "markdown",
      "metadata": {
        "id": "Efi4K50v4qDq"
      },
      "source": [
        "# SVM"
      ]
    },
    {
      "cell_type": "markdown",
      "metadata": {
        "id": "7Szo3602YAk3"
      },
      "source": [
        "### Split target and feature"
      ]
    },
    {
      "cell_type": "code",
      "metadata": {
        "id": "E7uQmgBUX5QX"
      },
      "source": [
        "#split target and feature sets\n",
        "X = data.drop('status',axis=1).values\n",
        "y= data['status'].values"
      ],
      "execution_count": null,
      "outputs": []
    },
    {
      "cell_type": "code",
      "metadata": {
        "id": "bpSncsKTYQhW"
      },
      "source": [
        "#  Split the data into train and test set\n",
        "x_train, x_test, y_train, y_test = train_test_split(x, y, test_size = 0.3, random_state = 0)"
      ],
      "execution_count": null,
      "outputs": []
    },
    {
      "cell_type": "code",
      "metadata": {
        "id": "REiDnSXuYZ3Z"
      },
      "source": [
        "#import SVM where Kernel = 'rbf'\n",
        "from sklearn.svm import SVC\n",
        "rbf_c = SVC(kernel='rbf',gamma='auto')\n"
      ],
      "execution_count": null,
      "outputs": []
    },
    {
      "cell_type": "code",
      "metadata": {
        "colab": {
          "base_uri": "https://localhost:8080/",
          "height": 245
        },
        "id": "ySrvCFMubWGz",
        "outputId": "3927d58e-91fa-468c-aae0-0e418392d121"
      },
      "source": [
        "#fit train model\n",
        "rnd_clf = RandomForestClassifier(\n",
        "             n_estimators=120,\n",
        "             criterion='gini',\n",
        "             max_features= None,\n",
        "             max_depth = 14 )\n",
        "\n",
        "rnd_clf.fit(X_train, y_train)\n",
        "rbf_c.fit(X_train,y_train)\n",
        "#predict\n",
        "y_Pred = rbf_c.predict(X_test)"
      ],
      "execution_count": null,
      "outputs": [
        {
          "output_type": "error",
          "ename": "NameError",
          "evalue": "ignored",
          "traceback": [
            "\u001b[0;31m---------------------------------------------------------------------------\u001b[0m",
            "\u001b[0;31mNameError\u001b[0m                                 Traceback (most recent call last)",
            "\u001b[0;32m<ipython-input-68-cc0a455145a7>\u001b[0m in \u001b[0;36m<module>\u001b[0;34m()\u001b[0m\n\u001b[1;32m      1\u001b[0m \u001b[0;31m#fit train model\u001b[0m\u001b[0;34m\u001b[0m\u001b[0;34m\u001b[0m\u001b[0;34m\u001b[0m\u001b[0m\n\u001b[0;32m----> 2\u001b[0;31m rnd_clf = RandomForestClassifier(  \n\u001b[0m\u001b[1;32m      3\u001b[0m              \u001b[0mn_estimators\u001b[0m\u001b[0;34m=\u001b[0m\u001b[0;36m120\u001b[0m\u001b[0;34m,\u001b[0m\u001b[0;34m\u001b[0m\u001b[0;34m\u001b[0m\u001b[0m\n\u001b[1;32m      4\u001b[0m              \u001b[0mcriterion\u001b[0m\u001b[0;34m=\u001b[0m\u001b[0;34m'gini'\u001b[0m\u001b[0;34m,\u001b[0m\u001b[0;34m\u001b[0m\u001b[0;34m\u001b[0m\u001b[0m\n\u001b[1;32m      5\u001b[0m              \u001b[0mmax_features\u001b[0m\u001b[0;34m=\u001b[0m \u001b[0;32mNone\u001b[0m\u001b[0;34m,\u001b[0m\u001b[0;34m\u001b[0m\u001b[0;34m\u001b[0m\u001b[0m\n",
            "\u001b[0;31mNameError\u001b[0m: name 'RandomForestClassifier' is not defined"
          ]
        }
      ]
    },
    {
      "cell_type": "markdown",
      "metadata": {
        "id": "chO3gX4pU0gL"
      },
      "source": [
        "## plotting test results against presence of hypothyroidsm"
      ]
    },
    {
      "cell_type": "code",
      "metadata": {
        "colab": {
          "base_uri": "https://localhost:8080/",
          "height": 435
        },
        "id": "qhYr5L2B9tfG",
        "outputId": "b1d308cb-ab88-4489-e084-d9e49a6448b0"
      },
      "source": [
        "# Plotting our desired features\n",
        "# Testing likelihood of hypothyroidsm against various symptoms\n",
        "\n",
        "sns.lmplot(\"TSH\",\"T3\", data=data, hue='status', palette='Set1', fit_reg=False, scatter_kws={\"s\": 70})"
      ],
      "execution_count": null,
      "outputs": [
        {
          "output_type": "stream",
          "name": "stderr",
          "text": [
            "/usr/local/lib/python3.7/dist-packages/seaborn/_decorators.py:43: FutureWarning: Pass the following variables as keyword args: x, y. From version 0.12, the only valid positional argument will be `data`, and passing other arguments without an explicit keyword will result in an error or misinterpretation.\n",
            "  FutureWarning\n"
          ]
        },
        {
          "output_type": "execute_result",
          "data": {
            "text/plain": [
              "<seaborn.axisgrid.FacetGrid at 0x7fbffd057890>"
            ]
          },
          "metadata": {},
          "execution_count": 61
        },
        {
          "output_type": "display_data",
          "data": {
            "image/png": "[encoded data removed]",
            "text/plain": [
              "<Figure size 487.77x360 with 1 Axes>"
            ]
          },
          "metadata": {}
        }
      ]
    },
    {
      "cell_type": "markdown",
      "metadata": {
        "id": "hVF1kBHCESdM"
      },
      "source": [
        "-less TSH and high T3 is likely to be Negative hypothyroid"
      ]
    },
    {
      "cell_type": "code",
      "metadata": {
        "colab": {
          "base_uri": "https://localhost:8080/",
          "height": 435
        },
        "id": "U_lJHHIzFTlO",
        "outputId": "33860c4e-c82b-487b-ce3d-4440bf4c4b23"
      },
      "source": [
        "# Testing TT4 $ T4U against hypothyroidsm\n",
        "sns.lmplot(\"TT4\",\"T4U\", data=data, hue='status', palette='Set1', fit_reg=False, scatter_kws={\"s\": 70})"
      ],
      "execution_count": null,
      "outputs": [
        {
          "output_type": "stream",
          "name": "stderr",
          "text": [
            "/usr/local/lib/python3.7/dist-packages/seaborn/_decorators.py:43: FutureWarning: Pass the following variables as keyword args: x, y. From version 0.12, the only valid positional argument will be `data`, and passing other arguments without an explicit keyword will result in an error or misinterpretation.\n",
            "  FutureWarning\n"
          ]
        },
        {
          "output_type": "execute_result",
          "data": {
            "text/plain": [
              "<seaborn.axisgrid.FacetGrid at 0x7fc006771610>"
            ]
          },
          "metadata": {},
          "execution_count": 62
        },
        {
          "output_type": "display_data",
          "data": {
            "image/png": "[encoded data removed]",
            "text/plain": [
              "<Figure size 487.77x360 with 1 Axes>"
            ]
          },
          "metadata": {}
        }
      ]
    },
    {
      "cell_type": "code",
      "metadata": {
        "id": "X9blEhPMGa7n"
      },
      "source": [
        "# Specify the input for the model\n",
        "tests = data[['TSH', 'T3']].values\n",
        "\n"
      ],
      "execution_count": null,
      "outputs": []
    },
    {
      "cell_type": "code",
      "metadata": {
        "id": "92xbvRjqHcRD"
      },
      "source": [
        "# Fit the model\n",
        "model = SVC(kernel= 'linear')\n",
        "clf_model = model.fit(tests,status)"
      ],
      "execution_count": null,
      "outputs": []
    },
    {
      "cell_type": "markdown",
      "metadata": {
        "id": "RlwilLGE4xz-"
      },
      "source": [
        "# Decision tree"
      ]
    },
    {
      "cell_type": "markdown",
      "metadata": {
        "id": "Ub3OkEhjXdx5"
      },
      "source": [
        "## Check the dependent variable"
      ]
    },
    {
      "cell_type": "code",
      "metadata": {
        "colab": {
          "base_uri": "https://localhost:8080/"
        },
        "id": "1MZTpLSWXjbD",
        "outputId": "9067a838-9db6-4b20-c5ba-dc0ca7565aaf"
      },
      "source": [
        "#dcheck the dependent variable\n",
        "data['status'].value_counts()"
      ],
      "execution_count": null,
      "outputs": [
        {
          "output_type": "execute_result",
          "data": {
            "text/plain": [
              "negative       3012\n",
              "hypothyroid     151\n",
              "Name: status, dtype: int64"
            ]
          },
          "metadata": {},
          "execution_count": 26
        }
      ]
    },
    {
      "cell_type": "code",
      "metadata": {
        "id": "KDH1NvYEmXDg"
      },
      "source": [
        "from sklearn.tree import DecisionTreeClassifier\n",
        "from sklearn.model_selection import train_test_split\n"
      ],
      "execution_count": null,
      "outputs": []
    },
    {
      "cell_type": "code",
      "metadata": {
        "id": "G95Fwvgom9XZ"
      },
      "source": [
        "# Split the independent and dependent variables\n",
        "# We want to predict if someone has hypothyroidsm so let's use that column as our Y\n",
        "y = data['status'].values\n"
      ],
      "execution_count": null,
      "outputs": []
    },
    {
      "cell_type": "code",
      "metadata": {
        "id": "NiBqiED1nIpm"
      },
      "source": [
        "test_features = [\"TSH\",\"T3\",\"TT4\",\"T4U\",\"FTI\"]\n",
        "# We should be able to use nearly all the other features,\n",
        "#but for the sake of simplifying our visualization later, we only pick a few.\n",
        "X = data[test_features].values\n",
        "\n"
      ],
      "execution_count": null,
      "outputs": []
    },
    {
      "cell_type": "code",
      "metadata": {
        "colab": {
          "base_uri": "https://localhost:8080/",
          "height": 360
        },
        "id": "pu7geoHlnM5R",
        "outputId": "42a7a2a6-4b77-4b47-bb01-7b3d6ed57c88"
      },
      "source": [
        "# Train using 80% of the data.\n",
        "X_train, X_test, y_train, y_test = train_test_split(X, y, test_size = 0.2, random_state = 0)\n",
        "\n"
      ],
      "execution_count": null,
      "outputs": [
        {
          "output_type": "error",
          "ename": "TypeError",
          "evalue": "ignored",
          "traceback": [
            "\u001b[0;31m---------------------------------------------------------------------------\u001b[0m",
            "\u001b[0;31mTypeError\u001b[0m                                 Traceback (most recent call last)",
            "\u001b[0;32m<ipython-input-70-653f103e41a3>\u001b[0m in \u001b[0;36m<module>\u001b[0;34m()\u001b[0m\n\u001b[1;32m      1\u001b[0m \u001b[0;31m# Train using 80% of the data.\u001b[0m\u001b[0;34m\u001b[0m\u001b[0;34m\u001b[0m\u001b[0;34m\u001b[0m\u001b[0m\n\u001b[0;32m----> 2\u001b[0;31m \u001b[0mX_train\u001b[0m\u001b[0;34m,\u001b[0m \u001b[0mX_test\u001b[0m\u001b[0;34m,\u001b[0m \u001b[0my_train\u001b[0m\u001b[0;34m,\u001b[0m \u001b[0my_test\u001b[0m \u001b[0;34m=\u001b[0m \u001b[0mtrain_test_split\u001b[0m\u001b[0;34m(\u001b[0m\u001b[0mX\u001b[0m\u001b[0;34m,\u001b[0m \u001b[0my\u001b[0m\u001b[0;34m,\u001b[0m \u001b[0mtest_size\u001b[0m \u001b[0;34m=\u001b[0m \u001b[0;36m0.2\u001b[0m\u001b[0;34m,\u001b[0m \u001b[0mrandom_state\u001b[0m \u001b[0;34m=\u001b[0m \u001b[0;36m0\u001b[0m\u001b[0;34m)\u001b[0m\u001b[0;34m\u001b[0m\u001b[0;34m\u001b[0m\u001b[0m\n\u001b[0m\u001b[1;32m      3\u001b[0m \u001b[0;31m#X_train, X_test, y_train, y_test = train_test_split(X, y, test_size = 0.2, random_state = 0)\u001b[0m\u001b[0;34m\u001b[0m\u001b[0;34m\u001b[0m\u001b[0;34m\u001b[0m\u001b[0m\n",
            "\u001b[0;32m/usr/local/lib/python3.7/dist-packages/sklearn/model_selection/_split.py\u001b[0m in \u001b[0;36mtrain_test_split\u001b[0;34m(*arrays, **options)\u001b[0m\n\u001b[1;32m   2210\u001b[0m \u001b[0;34m\u001b[0m\u001b[0m\n\u001b[1;32m   2211\u001b[0m     return list(chain.from_iterable((safe_indexing(a, train),\n\u001b[0;32m-> 2212\u001b[0;31m                                      safe_indexing(a, test)) for a in arrays))\n\u001b[0m\u001b[1;32m   2213\u001b[0m \u001b[0;34m\u001b[0m\u001b[0m\n\u001b[1;32m   2214\u001b[0m \u001b[0;34m\u001b[0m\u001b[0m\n",
            "\u001b[0;32m/usr/local/lib/python3.7/dist-packages/sklearn/model_selection/_split.py\u001b[0m in \u001b[0;36m<genexpr>\u001b[0;34m(.0)\u001b[0m\n\u001b[1;32m   2210\u001b[0m \u001b[0;34m\u001b[0m\u001b[0m\n\u001b[1;32m   2211\u001b[0m     return list(chain.from_iterable((safe_indexing(a, train),\n\u001b[0;32m-> 2212\u001b[0;31m                                      safe_indexing(a, test)) for a in arrays))\n\u001b[0m\u001b[1;32m   2213\u001b[0m \u001b[0;34m\u001b[0m\u001b[0m\n\u001b[1;32m   2214\u001b[0m \u001b[0;34m\u001b[0m\u001b[0m\n",
            "\u001b[0;32m/usr/local/lib/python3.7/dist-packages/sklearn/utils/__init__.py\u001b[0m in \u001b[0;36msafe_indexing\u001b[0;34m(X, indices)\u001b[0m\n\u001b[1;32m    214\u001b[0m                                    indices.dtype.kind == 'i'):\n\u001b[1;32m    215\u001b[0m             \u001b[0;31m# This is often substantially faster than X[indices]\u001b[0m\u001b[0;34m\u001b[0m\u001b[0;34m\u001b[0m\u001b[0;34m\u001b[0m\u001b[0m\n\u001b[0;32m--> 216\u001b[0;31m             \u001b[0;32mreturn\u001b[0m \u001b[0mX\u001b[0m\u001b[0;34m.\u001b[0m\u001b[0mtake\u001b[0m\u001b[0;34m(\u001b[0m\u001b[0mindices\u001b[0m\u001b[0;34m,\u001b[0m \u001b[0maxis\u001b[0m\u001b[0;34m=\u001b[0m\u001b[0;36m0\u001b[0m\u001b[0;34m)\u001b[0m\u001b[0;34m\u001b[0m\u001b[0;34m\u001b[0m\u001b[0m\n\u001b[0m\u001b[1;32m    217\u001b[0m         \u001b[0;32melse\u001b[0m\u001b[0;34m:\u001b[0m\u001b[0;34m\u001b[0m\u001b[0;34m\u001b[0m\u001b[0m\n\u001b[1;32m    218\u001b[0m             \u001b[0;32mreturn\u001b[0m \u001b[0mX\u001b[0m\u001b[0;34m[\u001b[0m\u001b[0mindices\u001b[0m\u001b[0;34m]\u001b[0m\u001b[0;34m\u001b[0m\u001b[0;34m\u001b[0m\u001b[0m\n",
            "\u001b[0;31mTypeError\u001b[0m: take() got an unexpected keyword argument 'axis'"
          ]
        }
      ]
    },
    {
      "cell_type": "code",
      "metadata": {
        "id": "mKuiClpvny8N"
      },
      "source": [
        "# Create a decision tree classifier\n",
        "\n",
        "tree = DecisionTreeClassifier()"
      ],
      "execution_count": null,
      "outputs": []
    },
    {
      "cell_type": "code",
      "metadata": {
        "id": "z7o1RH-In3ib"
      },
      "source": [
        "# Train it on our training set.\n",
        "tree = tree.fit(x_train, y_train)\n"
      ],
      "execution_count": null,
      "outputs": []
    },
    {
      "cell_type": "markdown",
      "metadata": {
        "id": "h30mh4HRrjmd"
      },
      "source": [
        "### Import new libraries"
      ]
    },
    {
      "cell_type": "code",
      "metadata": {
        "colab": {
          "base_uri": "https://localhost:8080/"
        },
        "id": "lFtcIEtyoirV",
        "outputId": "bdcaacbe-ac58-41fd-cae3-4353359ce5e7"
      },
      "source": [
        "!pip install matplotlib-venn"
      ],
      "execution_count": null,
      "outputs": [
        {
          "output_type": "stream",
          "name": "stdout",
          "text": [
            "Requirement already satisfied: matplotlib-venn in /usr/local/lib/python3.7/dist-packages (0.11.6)\n",
            "Requirement already satisfied: numpy in /usr/local/lib/python3.7/dist-packages (from matplotlib-venn) (1.19.5)\n",
            "Requirement already satisfied: scipy in /usr/local/lib/python3.7/dist-packages (from matplotlib-venn) (1.4.1)\n",
            "Requirement already satisfied: matplotlib in /usr/local/lib/python3.7/dist-packages (from matplotlib-venn) (3.2.2)\n",
            "Requirement already satisfied: kiwisolver>=1.0.1 in /usr/local/lib/python3.7/dist-packages (from matplotlib->matplotlib-venn) (1.3.2)\n",
            "Requirement already satisfied: python-dateutil>=2.1 in /usr/local/lib/python3.7/dist-packages (from matplotlib->matplotlib-venn) (2.8.2)\n",
            "Requirement already satisfied: pyparsing!=2.0.4,!=2.1.2,!=2.1.6,>=2.0.1 in /usr/local/lib/python3.7/dist-packages (from matplotlib->matplotlib-venn) (3.0.6)\n",
            "Requirement already satisfied: cycler>=0.10 in /usr/local/lib/python3.7/dist-packages (from matplotlib->matplotlib-venn) (0.11.0)\n",
            "Requirement already satisfied: six>=1.5 in /usr/local/lib/python3.7/dist-packages (from python-dateutil>=2.1->matplotlib->matplotlib-venn) (1.15.0)\n"
          ]
        }
      ]
    },
    {
      "cell_type": "code",
      "metadata": {
        "colab": {
          "base_uri": "https://localhost:8080/"
        },
        "id": "qnD68jvCow2p",
        "outputId": "65be1e70-9b5c-48ed-ef31-39ddab9fb560"
      },
      "source": [
        "!apt-get -qq install -y libarchive-dev && pip install -U libarchive\n",
        "import libarchive"
      ],
      "execution_count": null,
      "outputs": [
        {
          "output_type": "stream",
          "name": "stdout",
          "text": [
            "Requirement already satisfied: libarchive in /usr/local/lib/python3.7/dist-packages (0.4.7)\n",
            "Requirement already satisfied: nose in /usr/local/lib/python3.7/dist-packages (from libarchive) (1.3.7)\n"
          ]
        }
      ]
    },
    {
      "cell_type": "code",
      "metadata": {
        "colab": {
          "base_uri": "https://localhost:8080/"
        },
        "id": "bZGL1tgsqoKg",
        "outputId": "fb734f2f-109f-4c67-e59c-cc8506640c54"
      },
      "source": [
        "pip install --upgrade scikit-learn==0.20.3"
      ],
      "execution_count": null,
      "outputs": [
        {
          "output_type": "stream",
          "name": "stdout",
          "text": [
            "Requirement already satisfied: scikit-learn==0.20.3 in /usr/local/lib/python3.7/dist-packages (0.20.3)\n",
            "Requirement already satisfied: numpy>=1.8.2 in /usr/local/lib/python3.7/dist-packages (from scikit-learn==0.20.3) (1.19.5)\n",
            "Requirement already satisfied: scipy>=0.13.3 in /usr/local/lib/python3.7/dist-packages (from scikit-learn==0.20.3) (1.4.1)\n"
          ]
        }
      ]
    },
    {
      "cell_type": "code",
      "metadata": {
        "id": "ZlSsSREBoE0b"
      },
      "source": [
        "from sklearn.tree import export_graphviz\n",
        "from sklearn.externals.six import StringIO\n",
        "from IPython.display import Image\n",
        "import pydotplus"
      ],
      "execution_count": null,
      "outputs": []
    },
    {
      "cell_type": "code",
      "metadata": {
        "colab": {
          "base_uri": "https://localhost:8080/",
          "height": 451
        },
        "id": "0z8fpyoYpXs7",
        "outputId": "a15ff6db-a29a-47a4-e3a7-00a626491f2d"
      },
      "source": [
        "dot_data = StringIO()\n",
        "export_graphviz(tree, out_file=dot_data,\n",
        "                filled=True, rounded=True,\n",
        "                special_characters=True,feature_names = test_features,class_names=[\"TSH\",\"T3\",\"TT4\",\"T4U\",\"FTI\"])\n",
        "graph = pydotplus.graph_from_dot_data(dot_data.getvalue())\n",
        "graph.write_png('data.png')\n",
        "Image(graph.create_png())"
      ],
      "execution_count": null,
      "outputs": [
        {
          "output_type": "error",
          "ename": "NotFittedError",
          "evalue": "ignored",
          "traceback": [
            "\u001b[0;31m---------------------------------------------------------------------------\u001b[0m",
            "\u001b[0;31mNotFittedError\u001b[0m                            Traceback (most recent call last)",
            "\u001b[0;32m<ipython-input-63-f2deeda9e7c5>\u001b[0m in \u001b[0;36m<module>\u001b[0;34m()\u001b[0m\n\u001b[1;32m      2\u001b[0m export_graphviz(tree, out_file=dot_data,   \n\u001b[1;32m      3\u001b[0m                 \u001b[0mfilled\u001b[0m\u001b[0;34m=\u001b[0m\u001b[0;32mTrue\u001b[0m\u001b[0;34m,\u001b[0m \u001b[0mrounded\u001b[0m\u001b[0;34m=\u001b[0m\u001b[0;32mTrue\u001b[0m\u001b[0;34m,\u001b[0m\u001b[0;34m\u001b[0m\u001b[0;34m\u001b[0m\u001b[0m\n\u001b[0;32m----> 4\u001b[0;31m                 special_characters=True,feature_names = test_features,class_names=[\"TSH\",\"T3\",\"TT4\",\"T4U\",\"FTI\"])\n\u001b[0m\u001b[1;32m      5\u001b[0m \u001b[0mgraph\u001b[0m \u001b[0;34m=\u001b[0m \u001b[0mpydotplus\u001b[0m\u001b[0;34m.\u001b[0m\u001b[0mgraph_from_dot_data\u001b[0m\u001b[0;34m(\u001b[0m\u001b[0mdot_data\u001b[0m\u001b[0;34m.\u001b[0m\u001b[0mgetvalue\u001b[0m\u001b[0;34m(\u001b[0m\u001b[0;34m)\u001b[0m\u001b[0;34m)\u001b[0m\u001b[0;34m\u001b[0m\u001b[0;34m\u001b[0m\u001b[0m\n\u001b[1;32m      6\u001b[0m \u001b[0mgraph\u001b[0m\u001b[0;34m.\u001b[0m\u001b[0mwrite_png\u001b[0m\u001b[0;34m(\u001b[0m\u001b[0;34m'data.png'\u001b[0m\u001b[0;34m)\u001b[0m\u001b[0;34m\u001b[0m\u001b[0;34m\u001b[0m\u001b[0m\n",
            "\u001b[0;32m/usr/local/lib/python3.7/dist-packages/sklearn/tree/export.py\u001b[0m in \u001b[0;36mexport_graphviz\u001b[0;34m(decision_tree, out_file, max_depth, feature_names, class_names, label, filled, leaves_parallel, impurity, node_ids, proportion, rotate, rounded, special_characters, precision)\u001b[0m\n\u001b[1;32m    394\u001b[0m                 \u001b[0mout_file\u001b[0m\u001b[0;34m.\u001b[0m\u001b[0mwrite\u001b[0m\u001b[0;34m(\u001b[0m\u001b[0;34m'%d -> %d ;\\n'\u001b[0m \u001b[0;34m%\u001b[0m \u001b[0;34m(\u001b[0m\u001b[0mparent\u001b[0m\u001b[0;34m,\u001b[0m \u001b[0mnode_id\u001b[0m\u001b[0;34m)\u001b[0m\u001b[0;34m)\u001b[0m\u001b[0;34m\u001b[0m\u001b[0;34m\u001b[0m\u001b[0m\n\u001b[1;32m    395\u001b[0m \u001b[0;34m\u001b[0m\u001b[0m\n\u001b[0;32m--> 396\u001b[0;31m     \u001b[0mcheck_is_fitted\u001b[0m\u001b[0;34m(\u001b[0m\u001b[0mdecision_tree\u001b[0m\u001b[0;34m,\u001b[0m \u001b[0;34m'tree_'\u001b[0m\u001b[0;34m)\u001b[0m\u001b[0;34m\u001b[0m\u001b[0;34m\u001b[0m\u001b[0m\n\u001b[0m\u001b[1;32m    397\u001b[0m     \u001b[0mown_file\u001b[0m \u001b[0;34m=\u001b[0m \u001b[0;32mFalse\u001b[0m\u001b[0;34m\u001b[0m\u001b[0;34m\u001b[0m\u001b[0m\n\u001b[1;32m    398\u001b[0m     \u001b[0mreturn_string\u001b[0m \u001b[0;34m=\u001b[0m \u001b[0;32mFalse\u001b[0m\u001b[0;34m\u001b[0m\u001b[0;34m\u001b[0m\u001b[0m\n",
            "\u001b[0;32m/usr/local/lib/python3.7/dist-packages/sklearn/utils/validation.py\u001b[0m in \u001b[0;36mcheck_is_fitted\u001b[0;34m(estimator, attributes, msg, all_or_any)\u001b[0m\n\u001b[1;32m    949\u001b[0m \u001b[0;34m\u001b[0m\u001b[0m\n\u001b[1;32m    950\u001b[0m     \u001b[0;32mif\u001b[0m \u001b[0;32mnot\u001b[0m \u001b[0mall_or_any\u001b[0m\u001b[0;34m(\u001b[0m\u001b[0;34m[\u001b[0m\u001b[0mhasattr\u001b[0m\u001b[0;34m(\u001b[0m\u001b[0mestimator\u001b[0m\u001b[0;34m,\u001b[0m \u001b[0mattr\u001b[0m\u001b[0;34m)\u001b[0m \u001b[0;32mfor\u001b[0m \u001b[0mattr\u001b[0m \u001b[0;32min\u001b[0m \u001b[0mattributes\u001b[0m\u001b[0;34m]\u001b[0m\u001b[0;34m)\u001b[0m\u001b[0;34m:\u001b[0m\u001b[0;34m\u001b[0m\u001b[0;34m\u001b[0m\u001b[0m\n\u001b[0;32m--> 951\u001b[0;31m         \u001b[0;32mraise\u001b[0m \u001b[0mNotFittedError\u001b[0m\u001b[0;34m(\u001b[0m\u001b[0mmsg\u001b[0m \u001b[0;34m%\u001b[0m \u001b[0;34m{\u001b[0m\u001b[0;34m'name'\u001b[0m\u001b[0;34m:\u001b[0m \u001b[0mtype\u001b[0m\u001b[0;34m(\u001b[0m\u001b[0mestimator\u001b[0m\u001b[0;34m)\u001b[0m\u001b[0;34m.\u001b[0m\u001b[0m__name__\u001b[0m\u001b[0;34m}\u001b[0m\u001b[0;34m)\u001b[0m\u001b[0;34m\u001b[0m\u001b[0;34m\u001b[0m\u001b[0m\n\u001b[0m\u001b[1;32m    952\u001b[0m \u001b[0;34m\u001b[0m\u001b[0m\n\u001b[1;32m    953\u001b[0m \u001b[0;34m\u001b[0m\u001b[0m\n",
            "\u001b[0;31mNotFittedError\u001b[0m: This DecisionTreeClassifier instance is not fitted yet. Call 'fit' with appropriate arguments before using this method."
          ]
        }
      ]
    }
  ]
}